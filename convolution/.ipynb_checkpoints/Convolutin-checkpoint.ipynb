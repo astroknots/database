{
 "cells": [
  {
   "cell_type": "raw",
   "metadata": {},
   "source": [
    "This is a notebook to perform convolution on blueward images so their PSFs can match the redward images"
   ]
  },
  {
   "cell_type": "code",
   "execution_count": 29,
   "metadata": {},
   "outputs": [],
   "source": [
    "import numpy as np\n",
    "import matplotlib.pyplot as plt\n",
    "from astropy.io import fits\n",
    "from astropy.convolution import Gaussian2DKernel\n",
    "from astropy.convolution import convolve"
   ]
  },
  {
   "cell_type": "code",
   "execution_count": 30,
   "metadata": {},
   "outputs": [
    {
     "name": "stdout",
     "output_type": "stream",
     "text": [
      "std-dev for J2106 0.06369913502160143 0.06794574402303866\n"
     ]
    }
   ],
   "source": [
    "#input\n",
    "\n",
    "file='/home/k689j329/HSTdata/j210604m5845/j210604m5845-f606w_drc_sci.fits'\n",
    "filered='/home/k689j329/HSTdata/j210604m5845/j210604m5845-f105w_drz_sci.fits'\n",
    "hrp=fits.open(filered)\n",
    "hop=fits.open(file)\n",
    "#y is the stddev needed for the Gaussian 2D kernel\n",
    "#Let’s try j210604m5845, which has a 0.5” depth of ~27.6 AB mag for both F105W and F606W because of times observed\n",
    "#f105w: fwhm_image average for the best stars (on the sequence, plus classstar > 0.98) 1.95, and for just the\n",
    "#ones on the sequence, 1.99, so that’s pretty good. \n",
    "#pixels aHA, pixel scale: 2.77777777777777E-05 “/pixel (…. no. I think it’s radians. so that’s 5.72957795131 “/pix \n",
    "#and so in arcsec: 11.1726770051 “ FWHM)--greg said something about degrees, though? \n",
    "#ah, yes, decimal degrees, so 2.777777e-05 decimal degrees == 0.1 “/pixel, \n",
    "#so 1.95 pixel FWHM is 0.195 arcsec FWHM\n",
    "#f606w; fwhm_image ~2.5 pixels and plate scale in decimal degrees: CD1_1 = -1.3888888888888E-05 decimal degrees \n",
    "#== 0.05 “/pixel, giving 0.125 arcsec fwhm WOO, it's bluer and it has a \"higher resolution\" ie a smaller FWHM\n",
    "#use them to give the stddev size of a 2Dgaussiankernel, I think. --FWHM = 2sqrt(2ln2) * stddev\n",
    "#FWHM=2*sqrt(2ln2)*stdev, so stdev=FWHM/2sqrt(2ln2)\n",
    "\n",
    "#so, I want to convolve it with a kernel that's somewhere between 0.125 and 0.195 arcsec in fwhm.\n",
    "#rsmall=0.125, rbig=0.195, rconv=0.15\n",
    "#std-dev of 2D Gaussian kernel should be 0.15/2sqrt(2*ln2) = 0.06369913502\n",
    "#let's try to do that calculation more generally\n",
    "hdr1=hrp[0].header\n",
    "hdr2=hop[0].header\n",
    "fwhmpixred=1.95\n",
    "#cd1red=2.7777777777E-05\n",
    "cd1red=hdr1['CD1_1']\n",
    "cdarcred=abs(cd1red) * 3600.0\n",
    "fwhmarcred= fwhmpixred*cdarcred\n",
    "fwhmpixblue=2.5\n",
    "#cd1blue=1.388888888E-05\n",
    "cd1blue=hdr2['CD1_1']\n",
    "cdarcblue=abs(cd1blue)*3600.0\n",
    "fwhmarcblue=fwhmpixblue*cdarcblue\n",
    "#fwhm2=(fwhmarcred+fwhmarcblue)/2.0\n",
    "#can use fwhm2 instead of fwh below \n",
    "\n",
    "fwh=0.15\n",
    "y=fwh/(2*np.sqrt(2*np.log(2)))\n",
    "#y2=fwhm2/(2*np.sqrt(2*np.log(2)))\n",
    "print('std-dev for J2106',y,y2)\n",
    "\n",
    "\n",
    "#convolution\n",
    "\n",
    "kern=Gaussian2DKernel(y)\n",
    "img=hop[0].data\n",
    "#astrconv=convolve(img,kern)\n",
    "#hop[0].data=astrconv\n",
    "\n",
    "#output\n",
    "tmpfile=file\n",
    "tmpname=tmpfile.split('/')\n",
    "tmp2=tmpname[len(tmpname)-1]\n",
    "filename=tmp2.replace('.fits','')\n",
    "outfile='/home/k689j329/HSTdata/'+filename+'_conv2.fits'\n",
    "#hop.writeto(outfile)\n",
    "\n"
   ]
  },
  {
   "cell_type": "code",
   "execution_count": 31,
   "metadata": {},
   "outputs": [
    {
     "data": {
      "image/png": "[encoded data removed]",
      "text/plain": [
       "<Figure size 432x288 with 2 Axes>"
      ]
     },
     "metadata": {
      "needs_background": "light"
     },
     "output_type": "display_data"
    }
   ],
   "source": [
    "#okay, the output doesn't look any different. let me inspect the Gaussian some more.\n",
    "#Gaussian2DKernel needs an input of standard deviation 'in x', it says\n",
    "#perhaps that means in pixels as opposed to in arcsec\n",
    "plt.imshow(kern,interpolation='None')\n",
    "plt.colorbar()\n",
    "plt.show()"
   ]
  },
  {
   "cell_type": "code",
   "execution_count": 32,
   "metadata": {},
   "outputs": [
    {
     "name": "stdout",
     "output_type": "stream",
     "text": [
      "3.000000000000192\n"
     ]
    },
    {
     "data": {
      "image/png": "[encoded data removed]",
      "text/plain": [
       "<Figure size 432x288 with 2 Axes>"
      ]
     },
     "metadata": {
      "needs_background": "light"
     },
     "output_type": "display_data"
    }
   ],
   "source": [
    "#well, that answers that question. no change, cuz basically multiplying by nothing. \n",
    "#What does the kernel look like in terms of pixels? well, in F606w, that is 2.5 pix\n",
    "#but there's no point in multiplying F606W by an approximation of F606W's PSF\n",
    "#how about translating the fwhm of F105w's PSF into what it would look like given F606W's pixel scale?\n",
    "#in otherwords, fwhm_f105w(arcsec) / (arcsec/pix) of f606w.\n",
    "#in that case:\n",
    "ytest=0.15 / cdarcblue\n",
    "print(ytest)\n",
    "kern2=Gaussian2DKernel(ytest)\n",
    "plt.imshow(kern2,interpolation='None',origin='lower')\n",
    "plt.colorbar()\n",
    "plt.show()"
   ]
  },
  {
   "cell_type": "code",
   "execution_count": 33,
   "metadata": {},
   "outputs": [
    {
     "data": {
      "image/png": "[encoded data removed]",
      "text/plain": [
       "<Figure size 432x288 with 2 Axes>"
      ]
     },
     "metadata": {
      "needs_background": "light"
     },
     "output_type": "display_data"
    }
   ],
   "source": [
    "#okay, that sounds more reasonable, so let's try convolving with that\n",
    "#astrc2=convolve(img,kern2)\n",
    "#hop[0].data=astrc2\n",
    "#hop.writeto(outfile)\n",
    "#that is a little more accurate looking, but I used the FWHM instead of the stdev, so hold on and let's try v3\n",
    "kern3=Gaussian2DKernel(ytest/2.35)\n",
    "plt.imshow(kern3,interpolation='None',origin='lower')\n",
    "plt.colorbar()\n",
    "plt.show()"
   ]
  },
  {
   "cell_type": "code",
   "execution_count": null,
   "metadata": {},
   "outputs": [],
   "source": []
  }
 ],
 "metadata": {
  "kernelspec": {
   "display_name": "Python 3",
   "language": "python",
   "name": "python3"
  },
  "language_info": {
   "codemirror_mode": {
    "name": "ipython",
    "version": 3
   },
   "file_extension": ".py",
   "mimetype": "text/x-python",
   "name": "python",
   "nbconvert_exporter": "python",
   "pygments_lexer": "ipython3",
   "version": "3.6.9"
  }
 },
 "nbformat": 4,
 "nbformat_minor": 2
}
