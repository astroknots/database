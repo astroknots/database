{
 "cells": [
  {
   "cell_type": "markdown",
   "metadata": {},
   "source": [
    "    can I run other python programs in a jupyter notebook? looks like no, instead import and execute all bits"
   ]
  },
  {
   "cell_type": "code",
   "execution_count": 25,
   "metadata": {},
   "outputs": [],
   "source": [
    "import numpy as np\n",
    "import astropy.table\n",
    "import matplotlib as mpl\n",
    "import matplotlib.pyplot as plt\n",
    "import os,random,time\n",
    "import matplotlib.backends.backend_pdf\n",
    "from matplotlib.backends.backend_pdf import PdfPages\n",
    "from astropy.io import fits\n",
    "import scipy.stats as ss\n",
    "from astropy.modeling import models, fitting\n",
    "import sys\n",
    "from array import array\n",
    "import pylab as pl\n",
    "from IPython.display import IFrame\n"
   ]
  },
  {
   "cell_type": "markdown",
   "metadata": {},
   "source": [
    "so let me outline what I want to do: for a given fits file that I'm analyzing:\n",
    "1. read in a list of filenames from the eAA program\n",
    "2. for each file (ap size) in that list, calculate the associated 5sigma depth and output it (append it to an array or dictionary)\n",
    "3. for each file (ap size) produce a histogram of the data and a gaussian fit to it, then output the gaussian fit parameters (AND the histogram parameters, so I can plot them later all at once instead of one at a time?)\n",
    "4. for each fits file I'm analyzing, calculate the rms--I don't think I can do this step without uploading .fits files, though, so consider doing it on the computer and making a lil file with all the rms functions in it that can be access later\n",
    "5. for each object in list1, produce a plot of all the histograms/gaussian fits on top of each other\n",
    "6. for each fits file I'm analyzing, produce a sigma-vs-linear-size plot (Labbe-esque\n",
    "\n",
    "after looping through each object in the list, I will have a file of depth measurements, gaussian fits, and (maybe) histogram parameters, as well as the aperture sizes. then I want to\n",
    "1. display all the histograms, with the x and y axis fixed so the fwhm change is visible; on top of each other would be good\n",
    "2. plot the sigma-from-gaussian-fitting versus linear-size-of-apertures plot from Labbe 03 and overplot a y=mx+b relation for the gaussian rms (rms per pixel/size unit, * the linear-size-of-apertures, I assume. or a huge range in x/pixel/size, that's okay too)\n",
    "3. make depth as a function of aperture size plot (basically the same as 2, but with the magnitudes instead of the sigmas and arcsec aps instead of linear size/pixels\n",
    "\n",
    "So I need two parts to the program: one part that loops through the files in the filename list, and appends all the outputs; and another part that deals with the bulk outputs"
   ]
  },
  {
   "cell_type": "code",
   "execution_count": 26,
   "metadata": {},
   "outputs": [],
   "source": [
    "#########the part of the program that does the calculations\n",
    "def depthcalc(totfile,photvals):\n",
    "    infile='../emptyApertureAnalysis_share/aperflux/'+str(totfile)\n",
    "    valsin=np.loadtxt(infile,dtype=float,delimiter='\\t',usecols=2,comments='#')\n",
    "    tmpfile=infile\n",
    "    tmplist=tmpfile.split('/')\n",
    "    tmpname=tmplist[len(tmplist)-1]\n",
    "    outname=tmpname.replace('.dat','')\n",
    "    \n",
    "    #########calculate average flux and stdev\n",
    "    stdev_empty=np.std(valsin)\n",
    "    avg_emptyflux=np.average(valsin)\n",
    "    #########gaussian fit to histogram\n",
    "    binnys=100\n",
    "    #n,bins,patchs=plt.hist(valsin,binnys)\n",
    "    hist1,bins1=np.histogram(valsin,binnys)\n",
    "       \n",
    "    \n",
    "    #I want it to produce n, bins, and patches but I don't want it to actually plot\n",
    "    #fit a gaussian to the resultant data\n",
    "    holdhist={}\n",
    "    model=models.Gaussian1D()\n",
    "    fitter=fitting.LevMarLSQFitter()\n",
    "    bestfit=fitter(model,bins1[0:(len(bins1)-1)],hist1)  #[0:np.size(bins)-1],n)\n",
    "       #how do I output the parameters for fitting later? maybe just bestfit? or n,bins,patchs as well?\n",
    "    holdhist={'hist1':valsin,'bins':bins1,'bestfit':bestfit}\n",
    "    \n",
    "    #do the fitting and save it to a file?\n",
    "    #outfile=outname+str('.pdf')\n",
    "    #plt.figure()\n",
    "    #plt.hist(valsin,binnys)\n",
    "    #plt.plot(bins1[0:np.size(bins1)-1],bestfit(bins1[0:np.size(bins1)-1]))\n",
    "    #plt.title(outname)\n",
    "    #plt.xlabel('electrons/s (intrinsic HST brightness in the filter)')\n",
    "    #plt.ylabel('counts')\n",
    "    #plt.savefig(outfile)\n",
    "    #plt.close()\n",
    "\n",
    "    #########set up parameters\n",
    "    temp_photflam=photvals[0]\n",
    "    temp_photplam=photvals[1]\n",
    "    #########calculate abmag\n",
    "    abmagzpt=-2.5*np.log10(temp_photflam) - 21.10 - 5.0*np.log10(temp_photplam) + 18.692\n",
    "    abmag=-2.5*np.log10(5.0*stdev_empty)+abmagzpt\n",
    "    \n",
    "    return abmag,stdev_empty,holdhist,outname"
   ]
  },
  {
   "cell_type": "code",
   "execution_count": 27,
   "metadata": {},
   "outputs": [],
   "source": [
    "###################Run the analysis\n",
    "filelist='../emptyApertureAnalysis_share/aperflux/j16_v8_allaps.txt'\n",
    "filenames=np.loadtxt(filelist,dtype='str')\n",
    "\n",
    "#normally I'd pull hold_photvals from the headers of the associated fits files\n",
    "#but can't upload fits files to github so I just insert the values from the header manually here\n",
    "#hold_photvals=[1.9275602E-20,1.5369176E+04]\n",
    "apers=np.array([0.1,0.15,0.2,0.25,0.3,0.35,0.4,0.45,0.5,0.55,0.6,0.65,0.7,0.75,0.8,0.85,0.9,0.95,1.0,1.1,1.2,1.3,1.4,1.5,1.6,1.7,1.8,1.9,2.0])\n",
    "\n",
    "#set up output\n",
    "abmags_all=[]\n",
    "sigs_all=[]\n",
    "histogram_info={}\n",
    "keynames=[]\n",
    "\n",
    "fits_sci='../../HSTdata/j160116m0029/j160116m0029-f160w_drz_sci_norm.fits'\n",
    "fits_mask='../../HSTdata/j160116m0029/j160116m0029-f160w_drz_sci_mask.fits'\n",
    "fits_seg='../../sextractor-2.19.5/j16_f160w_seg_checkv8.fits'\n",
    "\n",
    "fits_original='../../HSTdata/j160116m0029/j160116m0029-f160w_drz_sci.fits'\n",
    "hdu1=fits.open(fits_original)\n",
    "hdr1=hdu1[0].header\n",
    "photflam=hdr1['PHOTFLAM']\n",
    "photplam=hdr1['PHOTPLAM']\n",
    "\n",
    "hold_photvals=[photflam,photplam]\n",
    "\n",
    "#run \n",
    "for x in filenames:\n",
    "    histdict={}\n",
    "    mags,sigs,holdhists,nameout=depthcalc(x,hold_photvals)\n",
    "    abmags_all.append(mags)\n",
    "    sigs_all.append(sigs)\n",
    "    histdict={nameout:holdhists}\n",
    "    histogram_info.update(histdict)\n",
    "    keynames.append(nameout)\n",
    "\n",
    "hdu1.close()"
   ]
  },
  {
   "cell_type": "markdown",
   "metadata": {},
   "source": [
    "okay that brings out all the data. now to plot, below"
   ]
  },
  {
   "cell_type": "code",
   "execution_count": 28,
   "metadata": {},
   "outputs": [
    {
     "data": {
      "image/png": "[encoded data removed]",
      "text/plain": [
       "<Figure size 432x288 with 1 Axes>"
      ]
     },
     "metadata": {
      "needs_background": "light"
     },
     "output_type": "display_data"
    },
    {
     "name": "stdout",
     "output_type": "stream",
     "text": [
      "STDEV of all \"valid\" pixels in scidata: 0.8336254  this is consistent with the SE program output\n",
      "rms actual: 0.83520305\n"
     ]
    },
    {
     "data": {
      "image/png": "[encoded data removed]",
      "text/plain": [
       "<Figure size 432x288 with 1 Axes>"
      ]
     },
     "metadata": {
      "needs_background": "light"
     },
     "output_type": "display_data"
    }
   ],
   "source": [
    "###########Plotting\n",
    "\n",
    "#ABmag depth plot\n",
    "plt.plot(apers,abmags_all,'r*')\n",
    "plt.title('J160116m0029 ABmag as a function of aperture')\n",
    "plt.axvline(x=1.0,linestyle=':')\n",
    "plt.hlines(y=21.45,xmin=0,xmax=2.0,linestyle=':')\n",
    "plt.xlabel('aper diameter (arcsec)')\n",
    "plt.ylabel('ABmag')\n",
    "plt.show()\n",
    "\n",
    "\n",
    "####Labbe03 plot setup\n",
    "#take full image (hdusci) and select only those pixels that are:\n",
    "#data (from hdumask) and that are not sources (from segdata)\n",
    "\n",
    "hdusci=fits.open(fits_sci)\n",
    "hdumask=fits.open(fits_mask)\n",
    "hduseg=fits.open(fits_seg)\n",
    "scidata=hdusci[0].data\n",
    "maskdata=hdumask[0].data\n",
    "segdata=hduseg[0].data\n",
    "validpts=np.where((segdata<1) & (maskdata==1))\n",
    "scivalid=scidata[validpts]\n",
    "\n",
    "rmss=np.std(scivalid)\n",
    "rmsactual=np.sqrt(np.mean(scivalid**2.0))\n",
    "print('STDEV of all \"valid\" pixels in scidata:',rmss,' this is consistent with the SE program output')\n",
    "print('rms actual:',rmsactual)\n",
    "\n",
    "pixscalef160w=0.1\n",
    "#pixscalef804w=0.05\n",
    "aper1=0.5*np.array(apers)/pixscalef160w #times 1/2 for 'radius' rather than 'diameter' linear size\n",
    "#is my linear size correct? N = sqrt(Area) ~ radius. above is radius in pixels, so, should be.\n",
    "\n",
    "rmsvals=aper1*rmss\n",
    "\n",
    "#add the standard deviation from the Gaussian fits\n",
    "sigvals=[]\n",
    "for i in keynames:\n",
    "    obj=histogram_info[i]\n",
    "    sigvals.append(obj['bestfit'].stddev.value)\n",
    "\n",
    "plt.plot(aper1,sigvals,'g^',label='STDEV of Gaussian fit to histogram')\n",
    "plt.plot(aper1,sigs_all,'r*',label='STDEV of actual aperture data')\n",
    "plt.title('Labbe03-esque plot: Sigma vs linear size')\n",
    "plt.xlabel('Linear size (pixels)')\n",
    "plt.ylabel('Sigma (e-/s)')\n",
    "plt.plot(aper1,rmsvals,label='Gaussian noise') #replace second xvals with rmsvals once rmsvals are calculated and added to github\n",
    "plt.legend(loc='upper left')\n",
    "plt.show()\n",
    "\n",
    "\n",
    "hdusci.close()\n",
    "hdumask.close()\n",
    "hduseg.close()\n"
   ]
  },
  {
   "cell_type": "code",
   "execution_count": 29,
   "metadata": {},
   "outputs": [
    {
     "data": {
      "image/png": "[encoded data removed]",
      "text/plain": [
       "<Figure size 432x288 with 1 Axes>"
      ]
     },
     "metadata": {
      "needs_background": "light"
     },
     "output_type": "display_data"
    }
   ],
   "source": [
    "######plotting histograms and their gaussian fits\n",
    "#this part isn't QUITE working right but given \n",
    "#that I've extracted the fit to the data and used it in Labbe-esque plot above, is it necessary? might be nice tho \n",
    "#FIX LATER\n",
    "\n",
    "for y in keynames:\n",
    "    binns=histogram_info[y]['bins']\n",
    "    data=histogram_info[y]['hist1']\n",
    "    bestfitp=histogram_info[y]['bestfit']\n",
    "    #print(bestfitp)\n",
    "    amps=histogram_info[y]['bestfit'].amplitude.value\n",
    "    mn=histogram_info[y]['bestfit'].mean.value\n",
    "    stde=histogram_info[y]['bestfit'].stddev.value\n",
    "    plt.clf()\n",
    "    plt.hist(data,100)\n",
    "    plt.title(y)\n",
    "        #plt.plot(binns[0:np.size(binns)-1],bestfitp[0:np.size(binns)-1])\n",
    "    \n",
    "    #okay, displaying individual gaussian fits is a pain in the butt--normally I'd just plt.plot(bins,bestfit(bins))\n",
    "    #but that isn't working for whatever reason. bestfit is somehow a 1d gaussian thing that plt.plot can't handle"
   ]
  },
  {
   "cell_type": "code",
   "execution_count": null,
   "metadata": {},
   "outputs": [],
   "source": []
  },
  {
   "cell_type": "code",
   "execution_count": null,
   "metadata": {},
   "outputs": [],
   "source": []
  },
  {
   "cell_type": "code",
   "execution_count": null,
   "metadata": {},
   "outputs": [],
   "source": []
  },
  {
   "cell_type": "code",
   "execution_count": null,
   "metadata": {},
   "outputs": [],
   "source": []
  },
  {
   "cell_type": "code",
   "execution_count": null,
   "metadata": {},
   "outputs": [],
   "source": []
  },
  {
   "cell_type": "code",
   "execution_count": null,
   "metadata": {},
   "outputs": [],
   "source": []
  }
 ],
 "metadata": {
  "kernelspec": {
   "display_name": "Python 3",
   "language": "python",
   "name": "python3"
  },
  "language_info": {
   "codemirror_mode": {
    "name": "ipython",
    "version": 3
   },
   "file_extension": ".py",
   "mimetype": "text/x-python",
   "name": "python",
   "nbconvert_exporter": "python",
   "pygments_lexer": "ipython3",
   "version": "3.6.9"
  }
 },
 "nbformat": 4,
 "nbformat_minor": 2
}
