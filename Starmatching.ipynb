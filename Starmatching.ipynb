{
 "cells": [
  {
   "cell_type": "code",
   "execution_count": 2,
   "metadata": {},
   "outputs": [],
   "source": [
    "import matplotlib.pyplot as plt\n",
    "import numpy as np\n",
    "import scipy as sp\n",
    "import astropy\n",
    "from astropy.io import fits\n",
    "import sys"
   ]
  },
  {
   "cell_type": "code",
   "execution_count": 3,
   "metadata": {},
   "outputs": [
    {
     "name": "stdout",
     "output_type": "stream",
     "text": [
      "['NUMBER' 'ALPHA_J2000' 'DELTA_J2000' 'FLUX_APER' 'FLUXERR_APER'\n",
      " 'FWHM_IMAGE' 'FLAGS' 'CLASS_STAR' 'FLUX_RADIUS' 'id' 'ra' 'dec'\n",
      " 'faper_f160w' 'eaper_f160w' 'faper_f140w' 'eaper_f140w' 'f_f160w'\n",
      " 'e_f160w ' 'w_f160w ' 'star_flag' 'a_image' 'b_image' 'class_star'\n",
      " 'flux_radius' 'fwhm_image' 'flags' 'contam_flag' 'use_phot' 'Separation']\n"
     ]
    }
   ],
   "source": [
    "filename='matchstars_tightmatch_v1.csv'\n",
    "valsin=np.loadtxt(filename,dtype=float,delimiter=',',skiprows=1)\n",
    "colvals=np.loadtxt('uds_headerslist.txt',dtype=str,usecols=0)\n",
    "colval2=np.loadtxt('matchstars_headers',dtype=str,delimiter=' | ')\n",
    "colnames=np.concatenate((colvals,colval2))\n",
    "colnames=colnames[0:29]\n",
    "colnames[28]='Separation'\n",
    "colnames[9]='id'\n",
    "colnames[10]='ra'\n",
    "colnames[11]='dec'\n",
    "colnames[16]='f_f160w'\n",
    "print(colnames)"
   ]
  },
  {
   "cell_type": "code",
   "execution_count": 4,
   "metadata": {
    "scrolled": true
   },
   "outputs": [
    {
     "data": {
      "image/png": "[encoded data removed]",
      "text/plain": [
       "<Figure size 432x288 with 1 Axes>"
      ]
     },
     "metadata": {
      "needs_background": "light"
     },
     "output_type": "display_data"
    }
   ],
   "source": [
    "logflux=np.log10(valsin[:,3])\n",
    "fwhmim=valsin[:,5]\n",
    "plt.figure()\n",
    "plt.title('Stellar ID plot')\n",
    "plt.xlabel('log flux')\n",
    "plt.ylabel('FWHM_image')\n",
    "\n",
    "plt.plot(logflux,fwhmim,'bo')\n",
    "plt.plot(np.log10(valsin[:,12]),valsin[:,23],'r^')\n",
    "plt.show()"
   ]
  },
  {
   "cell_type": "markdown",
   "metadata": {},
   "source": [
    "I don't really know what to think about this plot. The red values are the data from 3DHST, the blue the same data from our analysis/sextractor run of the dataset."
   ]
  },
  {
   "cell_type": "markdown",
   "metadata": {},
   "source": [
    "Now, onto the math. set phot parameters. ABMAG = -2.5xlogFv -48.6; Fv needs to be ergs/cm2/s/Hz; easy, using photnu instead of photlambda"
   ]
  },
  {
   "cell_type": "code",
   "execution_count": 5,
   "metadata": {},
   "outputs": [],
   "source": [
    "photfnu=1.518757E-07\n",
    "photflam=        1.9275602E-20\n",
    "photplam=            15369.176\n",
    "#assuming, since photflam is in coordinates of erg/cm2/A/electron, \n",
    "#that photfnu is erg/cm2/Hz/electron"
   ]
  },
  {
   "cell_type": "code",
   "execution_count": 8,
   "metadata": {},
   "outputs": [
    {
     "name": "stdout",
     "output_type": "stream",
     "text": [
      "[-39.10115815 -38.80768567 -39.08030475 -38.5998127  -39.23758039\n",
      " -39.26966747 -38.94679825 -38.58757413 -38.25263658 -38.93886692\n",
      " -38.57576224]\n",
      "[17.26284559 17.67406668 17.44385889 17.92557224 16.90586803 17.34031353\n",
      " 16.79153504 17.96241323 16.01683541 17.71461991 18.20674994]\n"
     ]
    }
   ],
   "source": [
    "abmag=-2.5*np.log10(photfnu*valsin[:,3])-48.6\n",
    "print(abmag)\n",
    "abmag_3dhst=-2.5*np.log10(valsin[:,12])+25.0\n",
    "# magAB = 25.0-2.5*log10(flux)\n",
    "print(abmag_3dhst)\n"
   ]
  },
  {
   "cell_type": "markdown",
   "metadata": {},
   "source": [
    "****What on earth is going on here? is it a problem with zeropoints or flux conversion?****"
   ]
  },
  {
   "cell_type": "code",
   "execution_count": 11,
   "metadata": {},
   "outputs": [
    {
     "data": {
      "image/png": "[encoded data removed]",
      "text/plain": [
       "<Figure size 432x288 with 1 Axes>"
      ]
     },
     "metadata": {
      "needs_background": "light"
     },
     "output_type": "display_data"
    },
    {
     "data": {
      "text/plain": [
       "[<matplotlib.lines.Line2D at 0x7f54d73cf898>]"
      ]
     },
     "execution_count": 11,
     "metadata": {},
     "output_type": "execute_result"
    },
    {
     "data": {
      "image/png": "[encoded data removed]",
      "text/plain": [
       "<Figure size 432x288 with 1 Axes>"
      ]
     },
     "metadata": {
      "needs_background": "light"
     },
     "output_type": "display_data"
    }
   ],
   "source": [
    "plt.plot(abmag,abmag_3dhst,'o')\n",
    "plt.show()\n",
    "plt.plot(abmag_3dhst,abmag_3dhst-abmag,'r^')"
   ]
  },
  {
   "cell_type": "markdown",
   "metadata": {},
   "source": [
    "That's.... not spectacular. Is it different using a different method?"
   ]
  },
  {
   "cell_type": "code",
   "execution_count": null,
   "metadata": {},
   "outputs": [],
   "source": []
  }
 ],
 "metadata": {
  "kernelspec": {
   "display_name": "Python 3",
   "language": "python",
   "name": "python3"
  },
  "language_info": {
   "codemirror_mode": {
    "name": "ipython",
    "version": 3
   },
   "file_extension": ".py",
   "mimetype": "text/x-python",
   "name": "python",
   "nbconvert_exporter": "python",
   "pygments_lexer": "ipython3",
   "version": "3.6.9"
  }
 },
 "nbformat": 4,
 "nbformat_minor": 2
}
