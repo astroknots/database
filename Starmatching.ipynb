{
 "cells": [
  {
   "cell_type": "code",
   "execution_count": 13,
   "metadata": {},
   "outputs": [],
   "source": [
    "import matplotlib.pyplot as plt\n",
    "import numpy as np\n",
    "import scipy as sp\n",
    "import astropy\n",
    "from astropy.io import fits\n",
    "import sys"
   ]
  },
  {
   "cell_type": "code",
   "execution_count": 14,
   "metadata": {},
   "outputs": [
    {
     "name": "stdout",
     "output_type": "stream",
     "text": [
      "['NUMBER' 'ALPHA_J2000' 'DELTA_J2000' 'FLUX_APER' 'FLUXERR_APER'\n",
      " 'FWHM_IMAGE' 'FLAGS' 'CLASS_STAR' 'FLUX_RADIUS' 'id' 'ra' 'dec'\n",
      " 'faper_f160w' 'eaper_f160w' 'faper_f140w' 'eaper_f140w' 'f_f160w'\n",
      " 'e_f160w ' 'w_f160w ' 'star_flag' 'a_image' 'b_image' 'class_star'\n",
      " 'flux_radius' 'fwhm_image' 'flags' 'contam_flag' 'use_phot' 'Separation']\n"
     ]
    }
   ],
   "source": [
    "filename='matchstars_tight_v2.csv'\n",
    "valsin=np.loadtxt(filename,dtype=float,delimiter=',',skiprows=1)\n",
    "#valsin is our data\n",
    "colvals=np.loadtxt('uds_headerslist.txt',dtype=str,usecols=0)\n",
    "colval2=np.loadtxt('matchstars_headers',dtype=str,delimiter=' | ')\n",
    "colnames=np.concatenate((colvals,colval2))\n",
    "colnames=colnames[0:29]\n",
    "colnames[28]='Separation'\n",
    "colnames[9]='id'\n",
    "colnames[10]='ra'\n",
    "colnames[11]='dec'\n",
    "colnames[16]='f_f160w'\n",
    "print(colnames)\n",
    "#these column names define what each column is\n",
    "\n",
    "#make easy region files for ds9 check\n",
    "#i=0\n",
    "#for i in range(len(valsin[:,12])):\n",
    "#    print('circle(',valsin[i,1],',',valsin[i,2],',','7.0\"',')')"
   ]
  },
  {
   "cell_type": "code",
   "execution_count": 15,
   "metadata": {
    "scrolled": true
   },
   "outputs": [
    {
     "data": {
      "image/png": "[encoded data removed]",
      "text/plain": [
       "<Figure size 432x288 with 1 Axes>"
      ]
     },
     "metadata": {
      "needs_background": "light"
     },
     "output_type": "display_data"
    }
   ],
   "source": [
    "#column 3 is 'FLUX_APER' produced by running SE on the (trimmed) F160W band image of IRC0218 from Gabe's database\n",
    "#the aperture was set to 7.0 pixels, since the pixel scale is 0.1\n",
    "#logflux isn't quite magnitude but it should be proportional to it\n",
    "flux=valsin[:,3]\n",
    "flux_err=valsin[:,4]\n",
    "flux_3dhst=valsin[:,12]\n",
    "flux_err_3dhst=valsin[:,13]\n",
    "logflux=np.log10(valsin[:,3])\n",
    "\n",
    "fwhmim=valsin[:,5]\n",
    "#column 5 is the 'FWHM_IMAGE' produced running SE on the (trimmed) F160W band image of IRC0218 from Gabe's database\n",
    "\n",
    "plt.figure()\n",
    "plt.title('Stellar ID plot')\n",
    "plt.xlabel('log flux')\n",
    "plt.ylabel('FWHM_image')\n",
    "\n",
    "plt.plot(logflux,fwhmim,'bo')\n",
    "\n",
    "#column 12 is the f_aperf160w value from the 3DHST catalog. This is the flux in the 0.7 arcsec aperture\n",
    "#column 23 is the 'FWHM_IMAGE' from the 3DHST catalog.\n",
    "plt.plot(np.log10(valsin[:,12]),valsin[:,23],'r^')\n",
    "plt.show()"
   ]
  },
  {
   "cell_type": "markdown",
   "metadata": {},
   "source": [
    "I don't really know what to think about this plot. The red values are the data from 3DHST, the blue the same data from our analysis/sextractor run of the dataset."
   ]
  },
  {
   "cell_type": "markdown",
   "metadata": {},
   "source": [
    "Now, onto the math. set phot parameters. ABMAG = -2.5xlogFv -48.6; Fv needs to be ergs/cm2/s/Hz; easy, using photnu instead of photlambda. for the 3dhst set, magAB = 25.0-2.5xlog10(flux), no conversion needed"
   ]
  },
  {
   "cell_type": "code",
   "execution_count": 16,
   "metadata": {},
   "outputs": [],
   "source": [
    "photfnu=1.518757E-07\n",
    "photflam=1.9275602E-20\n",
    "photplam=15369.176\n",
    "#assuming, since photflam is in coordinates of erg/cm2/A/electron, \n",
    "#that photfnu is erg/cm2/Hz/electron"
   ]
  },
  {
   "cell_type": "markdown",
   "metadata": {},
   "source": [
    "Update 16 June 2020: Greg suggests I am going about this from the wrong direction; instead of turning e/s into flux to get mag, I should turn e/s into mag to get flux\n",
    "#old version below\n",
    "#so as described above, and in the WFC3 handbook, and as we talked about in the latex documents I made\n",
    "#ABmag= -2.5*log(Fv) -48.6, and Fv needs to be in units of ergs/cm2/s/Hz\n",
    "\n",
    "abmag=(-2.5*np.log10(photfnu*valsin[:,3]))-48.6\n",
    "print(abmag)\n",
    "abmag_3dhst=-2.5*np.log10(valsin[:,12])+25.0\n",
    "#magAB = 25.0-2.5*log10(flux)\n",
    "print(abmag_3dhst)\n"
   ]
  },
  {
   "cell_type": "code",
   "execution_count": 20,
   "metadata": {},
   "outputs": [],
   "source": [
    "#new version here\n",
    "abmag_zpt= -2.5*np.log10(photflam) -21.10 -5.0*np.log10(photplam) +18.692\n",
    "abmag=-2.5*np.log10(flux) +abmag_zpt\n",
    "#that's our version above, compared to the vals from 3dhst below\n",
    "abmag_3dhst= -2.5*np.log10(flux_3dhst)+25.0\n",
    "\n",
    "\n"
   ]
  },
  {
   "cell_type": "markdown",
   "metadata": {},
   "source": [
    "****What on earth is going on here? is it a problem with zeropoints or flux conversion?****"
   ]
  },
  {
   "cell_type": "code",
   "execution_count": 22,
   "metadata": {},
   "outputs": [
    {
     "data": {
      "image/png": "[encoded data removed]",
      "text/plain": [
       "<Figure size 432x288 with 1 Axes>"
      ]
     },
     "metadata": {
      "needs_background": "light"
     },
     "output_type": "display_data"
    },
    {
     "data": {
      "image/png": "[encoded data removed]",
      "text/plain": [
       "<Figure size 432x288 with 1 Axes>"
      ]
     },
     "metadata": {
      "needs_background": "light"
     },
     "output_type": "display_data"
    }
   ],
   "source": [
    "plt.plot(abmag,abmag_3dhst,'o')\n",
    "plt.title('magnitude versus magnitude plot')\n",
    "plt.xlabel('our AB mag')\n",
    "plt.ylabel('3dhst AB mag')\n",
    "plt.show()\n",
    "plt.plot(abmag_3dhst,abmag_3dhst-abmag,'g*')\n",
    "plt.title(r'$\\Delta$ AB mag')\n",
    "plt.xlabel('3dhst AB mag')\n",
    "plt.ylabel('3dhst-ours')\n",
    "plt.show()"
   ]
  },
  {
   "cell_type": "code",
   "execution_count": null,
   "metadata": {},
   "outputs": [],
   "source": []
  }
 ],
 "metadata": {
  "kernelspec": {
   "display_name": "Python 2",
   "language": "python",
   "name": "python2"
  },
  "language_info": {
   "codemirror_mode": {
    "name": "ipython",
    "version": 2
   },
   "file_extension": ".py",
   "mimetype": "text/x-python",
   "name": "python",
   "nbconvert_exporter": "python",
   "pygments_lexer": "ipython2",
   "version": "2.7.16"
  }
 },
 "nbformat": 4,
 "nbformat_minor": 2
}
